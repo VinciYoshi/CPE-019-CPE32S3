{
  "nbformat": 4,
  "nbformat_minor": 0,
  "metadata": {
    "colab": {
      "provenance": []
    },
    "kernelspec": {
      "name": "python3",
      "display_name": "Python 3"
    },
    "language_info": {
      "name": "python"
    }
  },
  "cells": [
    {
      "cell_type": "markdown",
      "source": [
        "SET A\n",
        "\n",
        "Write a Python program using Pandas to count the number of rows and columns of a DataFrame.\n",
        "\n",
        "exam_data = {'name': ['Anastasia', 'Dima', 'Katherine', 'James', 'Emily', 'Michael', 'Matthew', 'Laura', 'Kevin', 'Jonas'], <BR>\n",
        "'score': [12.5, 9, 16.5, np.nan, 9, 20, 14.5, np.nan, 8, 19], <br>\n",
        "'attempts': [1, 3, 2, 3, 2, 3, 1, 1, 2, 1], <br>\n",
        "'qualify': ['yes', 'no', 'yes', 'no', 'no', 'yes', 'yes', 'no', 'no', 'yes']} <br>\n",
        "labels = ['a', 'b', 'c', 'd', 'e', 'f', 'g', 'h', 'i', 'j']"
      ],
      "metadata": {
        "id": "j_HiMOnsxfOz"
      }
    },
    {
      "cell_type": "code",
      "execution_count": null,
      "metadata": {
        "colab": {
          "base_uri": "https://localhost:8080/"
        },
        "id": "1UMLVF2bxEEF",
        "outputId": "d39e3cf9-2509-411d-d6f6-be3fffb32e29"
      },
      "outputs": [
        {
          "output_type": "stream",
          "name": "stdout",
          "text": [
            "number of rows\n",
            "1\n",
            "2\n",
            "3\n",
            "4\n",
            "5\n",
            "6\n",
            "7\n",
            "8\n",
            "9\n",
            "10\n",
            "number of columns\n",
            "1\n",
            "2\n",
            "3\n",
            "4\n"
          ]
        }
      ],
      "source": [
        "import pandas as pd\n",
        "import numpy as np\n",
        "\n",
        "exam_data = {\n",
        "            'name': ['Anastasia', 'Dima', 'Katherine', 'James', 'Emily', 'Michael', 'Matthew', 'Laura', 'Kevin', 'Jonas'],\n",
        "            'score': [12.5, 9, 16.5, np.nan, 9, 20, 14.5, np.nan, 8, 19],\n",
        "            'attempts': [1, 3, 2, 3, 2, 3, 1, 1, 2, 1],\n",
        "            'qualify': ['yes', 'no', 'yes', 'no', 'no', 'yes', 'yes', 'no', 'no', 'yes']\n",
        "            }\n",
        "\n",
        "labels = ['a', 'b', 'c', 'd', 'e', 'f', 'g', 'h', 'i', 'j']\n",
        "\n",
        "count = 0\n",
        "countj = 0\n",
        "print ('number of rows')\n",
        "for i in exam_data['attempts']:\n",
        "  count += 1\n",
        "  print(count)\n",
        "\n",
        "print ('number of columns')\n",
        "for j in exam_data:\n",
        "  countj += 1\n",
        "  print(countj)\n",
        "\n",
        "# dataframe = pd.read_\n",
        "#print(exam_data['attempts'])\n",
        "#print(exam_data['qualify'])\n"
      ]
    },
    {
      "cell_type": "code",
      "source": [],
      "metadata": {
        "id": "TWaPKLCFyBjE"
      },
      "execution_count": null,
      "outputs": []
    }
  ]
}